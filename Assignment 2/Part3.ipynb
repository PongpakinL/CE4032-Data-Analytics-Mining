{
 "cells": [
  {
   "cell_type": "markdown",
   "id": "3b1e3b9e",
   "metadata": {},
   "source": [
    "# Data Preparation"
   ]
  },
  {
   "cell_type": "code",
   "execution_count": 1,
   "id": "6364600e",
   "metadata": {},
   "outputs": [],
   "source": [
    "import numpy as np\n",
    "import pandas as pd\n",
    "\n",
    "from sklearn import svm, tree\n",
    "from sklearn.model_selection import train_test_split\n",
    "from sklearn.tree import DecisionTreeClassifier\n",
    "from sklearn.ensemble import RandomForestClassifier\n",
    "from sklearn.metrics import accuracy_score, f1_score\n",
    "from sklearn.preprocessing import LabelEncoder\n",
    "\n",
    "import tensorflow as tf\n",
    "import keras_tuner\n",
    "from tensorflow import keras\n",
    "from tensorflow.keras.models import Sequential\n",
    "from tensorflow.keras.layers import Dense, Activation, Dropout\n",
    "from tensorflow.keras.metrics import sparse_categorical_crossentropy"
   ]
  },
  {
   "cell_type": "code",
   "execution_count": 2,
   "id": "026641f4",
   "metadata": {},
   "outputs": [],
   "source": [
    "australian = pd.read_csv('datasets/australian.csv')\n",
    "breast_cancer = pd.read_csv('datasets/breast_cancer.csv')\n",
    "car = pd.read_csv('datasets/car.csv')\n",
    "iris = pd.read_csv('datasets/iris.csv')\n",
    "pima = pd.read_csv('datasets/pima.csv')\n",
    "tic_tac_toe = pd.read_csv('datasets/tic_tac_toe.csv')\n",
    "waveform = pd.read_csv('datasets/waveform.csv')\n",
    "wine = pd.read_csv('datasets/wine.csv')"
   ]
  },
  {
   "cell_type": "code",
   "execution_count": 3,
   "id": "f146f291",
   "metadata": {},
   "outputs": [
    {
     "data": {
      "text/plain": [
       "((483, 14), (207, 14), (483,), (207,), 2)"
      ]
     },
     "execution_count": 3,
     "metadata": {},
     "output_type": "execute_result"
    }
   ],
   "source": [
    "australian_x = australian.iloc[:,:-1].to_numpy()\n",
    "australian_y = LabelEncoder().fit_transform(australian['class'])\n",
    "australian_x_train, australian_x_test, australian_y_train, australian_y_test = train_test_split(australian_x, australian_y, test_size=0.3, random_state=0)\n",
    "australian_x_train.shape, australian_x_test.shape, australian_y_train.shape, australian_y_test.shape, len(np.unique(australian_y))"
   ]
  },
  {
   "cell_type": "code",
   "execution_count": 4,
   "id": "e15ba2d3",
   "metadata": {},
   "outputs": [
    {
     "data": {
      "text/plain": [
       "((200, 9), (86, 9), (200,), (86,), 2)"
      ]
     },
     "execution_count": 4,
     "metadata": {},
     "output_type": "execute_result"
    }
   ],
   "source": [
    "breast_cancer['recurrence'] = LabelEncoder().fit_transform(breast_cancer['recurrence'])\n",
    "breast_cancer['age'] = LabelEncoder().fit_transform(breast_cancer['age'])\n",
    "breast_cancer['menopause'] = LabelEncoder().fit_transform(breast_cancer['menopause'])\n",
    "breast_cancer['tumor-size'] = LabelEncoder().fit_transform(breast_cancer['tumor-size'])\n",
    "breast_cancer['inv-nodes'] = LabelEncoder().fit_transform(breast_cancer['inv-nodes'])\n",
    "breast_cancer['node-caps'] = LabelEncoder().fit_transform(breast_cancer['node-caps'])\n",
    "breast_cancer['breast'] = LabelEncoder().fit_transform(breast_cancer['breast'])\n",
    "breast_cancer['breast-quad'] = LabelEncoder().fit_transform(breast_cancer['breast-quad'])\n",
    "breast_cancer_x = breast_cancer.iloc[:,:-1].to_numpy()\n",
    "breast_cancer_y = LabelEncoder().fit_transform(breast_cancer['class'])\n",
    "breast_cancer_x_train, breast_cancer_x_test, breast_cancer_y_train, breast_cancer_y_test = train_test_split(breast_cancer_x, breast_cancer_y, test_size=0.3, random_state=0)\n",
    "breast_cancer_x_train.shape, breast_cancer_x_test.shape, breast_cancer_y_train.shape, breast_cancer_y_test.shape, len(np.unique(breast_cancer_y))"
   ]
  },
  {
   "cell_type": "code",
   "execution_count": 5,
   "id": "485db889",
   "metadata": {},
   "outputs": [
    {
     "data": {
      "text/plain": [
       "((1209, 6), (519, 6), (1209,), (519,), 4)"
      ]
     },
     "execution_count": 5,
     "metadata": {},
     "output_type": "execute_result"
    }
   ],
   "source": [
    "car['buying'] = LabelEncoder().fit_transform(car['buying'])\n",
    "car['maint'] = LabelEncoder().fit_transform(car['maint'])\n",
    "car['doors'] = LabelEncoder().fit_transform(car['doors'])\n",
    "car['persons'] = LabelEncoder().fit_transform(car['persons'])\n",
    "car['lug_boot'] = LabelEncoder().fit_transform(car['lug_boot'])\n",
    "car['safety'] = LabelEncoder().fit_transform(car['safety'])\n",
    "car_x = car.iloc[:,:-1].to_numpy()\n",
    "car_y = LabelEncoder().fit_transform(car['class'])\n",
    "car_x_train, car_x_test, car_y_train, car_y_test = train_test_split(car_x, car_y, test_size=0.3, random_state=0)\n",
    "car_x_train.shape, car_x_test.shape, car_y_train.shape, car_y_test.shape, len(np.unique(car_y))"
   ]
  },
  {
   "cell_type": "code",
   "execution_count": 6,
   "id": "98d1462c",
   "metadata": {},
   "outputs": [
    {
     "data": {
      "text/plain": [
       "((105, 4), (45, 4), (105,), (45,), 3)"
      ]
     },
     "execution_count": 6,
     "metadata": {},
     "output_type": "execute_result"
    }
   ],
   "source": [
    "iris_x = iris.iloc[:,:-1].to_numpy()\n",
    "iris_y = LabelEncoder().fit_transform(iris['class'])\n",
    "iris_x_train, iris_x_test, iris_y_train, iris_y_test = train_test_split(iris_x, iris_y, test_size=0.3, random_state=0)\n",
    "iris_x_train.shape, iris_x_test.shape, iris_y_train.shape, iris_y_test.shape, len(np.unique(iris_y))"
   ]
  },
  {
   "cell_type": "code",
   "execution_count": 7,
   "id": "9fc26e05",
   "metadata": {},
   "outputs": [
    {
     "data": {
      "text/plain": [
       "((537, 8), (231, 8), (537,), (231,), 2)"
      ]
     },
     "execution_count": 7,
     "metadata": {},
     "output_type": "execute_result"
    }
   ],
   "source": [
    "pima_x = pima.iloc[:,:-1].to_numpy()\n",
    "pima_y = LabelEncoder().fit_transform(pima['class'])\n",
    "pima_x_train, pima_x_test, pima_y_train, pima_y_test = train_test_split(pima_x, pima_y, test_size=0.3, random_state=0)\n",
    "pima_x_train.shape, pima_x_test.shape, pima_y_train.shape, pima_y_test.shape, len(np.unique(pima_y))"
   ]
  },
  {
   "cell_type": "code",
   "execution_count": 8,
   "id": "70a20642",
   "metadata": {},
   "outputs": [
    {
     "data": {
      "text/plain": [
       "((670, 9), (288, 9), (670,), (288,), 2)"
      ]
     },
     "execution_count": 8,
     "metadata": {},
     "output_type": "execute_result"
    }
   ],
   "source": [
    "tic_tac_toe['top-left-square'] = LabelEncoder().fit_transform(tic_tac_toe['top-left-square'])\n",
    "tic_tac_toe['top-middle-square'] = LabelEncoder().fit_transform(tic_tac_toe['top-middle-square'])\n",
    "tic_tac_toe['top-right-square'] = LabelEncoder().fit_transform(tic_tac_toe['top-right-square'])\n",
    "tic_tac_toe['middle-left-square'] = LabelEncoder().fit_transform(tic_tac_toe['middle-left-square'])\n",
    "tic_tac_toe['middle-middle-square'] = LabelEncoder().fit_transform(tic_tac_toe['middle-middle-square'])\n",
    "tic_tac_toe['middle-right-square'] = LabelEncoder().fit_transform(tic_tac_toe['middle-right-square'])\n",
    "tic_tac_toe['bottom-left-square'] = LabelEncoder().fit_transform(tic_tac_toe['bottom-left-square'])\n",
    "tic_tac_toe['bottom-middle-square'] = LabelEncoder().fit_transform(tic_tac_toe['bottom-middle-square'])\n",
    "tic_tac_toe['bottom-right-square'] = LabelEncoder().fit_transform(tic_tac_toe['bottom-right-square'])\n",
    "tic_tac_toe_x = tic_tac_toe.iloc[:,:-1].to_numpy()\n",
    "tic_tac_toe_y = LabelEncoder().fit_transform(tic_tac_toe['class'])\n",
    "tic_tac_toe_x_train, tic_tac_toe_x_test, tic_tac_toe_y_train, tic_tac_toe_y_test = train_test_split(tic_tac_toe_x, tic_tac_toe_y, test_size=0.3, random_state=0)\n",
    "tic_tac_toe_x_train.shape, tic_tac_toe_x_test.shape, tic_tac_toe_y_train.shape, tic_tac_toe_y_test.shape, len(np.unique(tic_tac_toe_y))"
   ]
  },
  {
   "cell_type": "code",
   "execution_count": 9,
   "id": "fe58842b",
   "metadata": {},
   "outputs": [
    {
     "data": {
      "text/plain": [
       "((3500, 21), (1500, 21), (3500,), (1500,), 3)"
      ]
     },
     "execution_count": 9,
     "metadata": {},
     "output_type": "execute_result"
    }
   ],
   "source": [
    "waveform_x = waveform.iloc[:,:-1].to_numpy()\n",
    "waveform_y = LabelEncoder().fit_transform(waveform['class'])\n",
    "waveform_x_train, waveform_x_test, waveform_y_train, waveform_y_test = train_test_split(waveform_x, waveform_y, test_size=0.3, random_state=0)\n",
    "waveform_x_train.shape, waveform_x_test.shape, waveform_y_train.shape, waveform_y_test.shape, len(np.unique(waveform_y))"
   ]
  },
  {
   "cell_type": "code",
   "execution_count": 10,
   "id": "73b18fad",
   "metadata": {},
   "outputs": [
    {
     "data": {
      "text/plain": [
       "((124, 13), (54, 13), (124,), (54,), 3)"
      ]
     },
     "execution_count": 10,
     "metadata": {},
     "output_type": "execute_result"
    }
   ],
   "source": [
    "wine_x = wine.iloc[:,:-1].to_numpy()\n",
    "wine_y = LabelEncoder().fit_transform(wine['class'])\n",
    "wine_x_train, wine_x_test, wine_y_train, wine_y_test = train_test_split(wine_x, wine_y, test_size=0.3, random_state=0)\n",
    "wine_x_train.shape, wine_x_test.shape, wine_y_train.shape, wine_y_test.shape, len(np.unique(wine_y))"
   ]
  },
  {
   "cell_type": "markdown",
   "id": "58a07c07",
   "metadata": {},
   "source": [
    "# Decision Tree"
   ]
  },
  {
   "cell_type": "code",
   "execution_count": 11,
   "id": "f3892eb4",
   "metadata": {},
   "outputs": [],
   "source": [
    "australian_dtree = DecisionTreeClassifier().fit(australian_x_train, australian_y_train)\n",
    "australian_predict_dtree = australian_dtree.predict(australian_x_test)\n",
    "breast_cancer_dtree = DecisionTreeClassifier().fit(breast_cancer_x_train, breast_cancer_y_train)\n",
    "breast_cancer_predict_dtree = breast_cancer_dtree.predict(breast_cancer_x_test)\n",
    "car_dtree = DecisionTreeClassifier().fit(car_x_train, car_y_train)\n",
    "car_predict_dtree = car_dtree.predict(car_x_test)\n",
    "iris_dtree = DecisionTreeClassifier().fit(iris_x_train, iris_y_train)\n",
    "iris_predict_dtree = iris_dtree.predict(iris_x_test)\n",
    "pima_dtree = DecisionTreeClassifier().fit(pima_x_train, pima_y_train)\n",
    "pima_predict_dtree = pima_dtree.predict(pima_x_test)\n",
    "tic_tac_toe_dtree = DecisionTreeClassifier().fit(tic_tac_toe_x_train, tic_tac_toe_y_train)\n",
    "tic_tac_toe_predict_dtree = tic_tac_toe_dtree.predict(tic_tac_toe_x_test)\n",
    "waveform_dtree = DecisionTreeClassifier().fit(waveform_x_train, waveform_y_train)\n",
    "waveform_predict_dtree = waveform_dtree.predict(waveform_x_test)\n",
    "wine_dtree = DecisionTreeClassifier().fit(wine_x_train, wine_y_train)\n",
    "wine_predict_dtree = wine_dtree.predict(wine_x_test)"
   ]
  },
  {
   "cell_type": "code",
   "execution_count": 12,
   "id": "40bef5e9",
   "metadata": {},
   "outputs": [
    {
     "name": "stdout",
     "output_type": "stream",
     "text": [
      "Australian Accuracy\t 0.8067632850241546\n",
      "Breast-Cancer Accuracy\t 0.7674418604651163\n",
      "Car Accuracy\t\t 0.9807321772639692\n",
      "Iris Accuracy\t\t 0.9777777777777777\n",
      "Pima Accuracy\t\t 0.7532467532467533\n",
      "Tic-Tac-Toe Accuracy\t 0.9375\n",
      "Waveform Accuracy\t 0.7753333333333333\n",
      "Wine Accuracy\t\t 0.9444444444444444\n"
     ]
    }
   ],
   "source": [
    "print('Australian Accuracy\\t', accuracy_score(australian_y_test, australian_predict_dtree))\n",
    "print('Breast-Cancer Accuracy\\t', accuracy_score(breast_cancer_y_test, breast_cancer_predict_dtree))\n",
    "print('Car Accuracy\\t\\t', accuracy_score(car_y_test, car_predict_dtree))\n",
    "print('Iris Accuracy\\t\\t', accuracy_score(iris_y_test, iris_predict_dtree))\n",
    "print('Pima Accuracy\\t\\t', accuracy_score(pima_y_test, pima_predict_dtree))\n",
    "print('Tic-Tac-Toe Accuracy\\t', accuracy_score(tic_tac_toe_y_test, tic_tac_toe_predict_dtree))\n",
    "print('Waveform Accuracy\\t', accuracy_score(waveform_y_test, waveform_predict_dtree))\n",
    "print('Wine Accuracy\\t\\t', accuracy_score(wine_y_test, wine_predict_dtree))"
   ]
  },
  {
   "cell_type": "markdown",
   "id": "5dab306c",
   "metadata": {},
   "source": [
    "# Random Forest Classifier"
   ]
  },
  {
   "cell_type": "code",
   "execution_count": 13,
   "id": "0ff1318f",
   "metadata": {},
   "outputs": [],
   "source": [
    "australian_rforest = RandomForestClassifier().fit(australian_x_train, australian_y_train)\n",
    "australian_predict_rforest = australian_rforest.predict(australian_x_test)\n",
    "breast_cancer_rforest = RandomForestClassifier().fit(breast_cancer_x_train, breast_cancer_y_train)\n",
    "breast_cancer_predict_rforest = breast_cancer_rforest.predict(breast_cancer_x_test)\n",
    "car_rforest = RandomForestClassifier().fit(car_x_train, car_y_train)\n",
    "car_predict_rforest = car_rforest.predict(car_x_test)\n",
    "iris_rforest = RandomForestClassifier().fit(iris_x_train, iris_y_train)\n",
    "iris_predict_rforest = iris_rforest.predict(iris_x_test)\n",
    "pima_rforest = RandomForestClassifier().fit(pima_x_train, pima_y_train)\n",
    "pima_predict_rforest = pima_rforest.predict(pima_x_test)\n",
    "tic_tac_toe_rforest = RandomForestClassifier().fit(tic_tac_toe_x_train, tic_tac_toe_y_train)\n",
    "tic_tac_toe_predict_rforest = tic_tac_toe_rforest.predict(tic_tac_toe_x_test)\n",
    "waveform_rforest = RandomForestClassifier().fit(waveform_x_train, waveform_y_train)\n",
    "waveform_predict_rforest = waveform_rforest.predict(waveform_x_test)\n",
    "wine_rforest = RandomForestClassifier().fit(wine_x_train, wine_y_train)\n",
    "wine_predict_rforest = wine_rforest.predict(wine_x_test)"
   ]
  },
  {
   "cell_type": "code",
   "execution_count": 14,
   "id": "6c4358e2",
   "metadata": {},
   "outputs": [
    {
     "name": "stdout",
     "output_type": "stream",
     "text": [
      "Australian Accuracy\t 0.8599033816425121\n",
      "Breast-Cancer Accuracy\t 0.7674418604651163\n",
      "Car Accuracy\t\t 0.9807321772639692\n",
      "Iris Accuracy\t\t 0.9777777777777777\n",
      "Pima Accuracy\t\t 0.7662337662337663\n",
      "Tic-Tac-Toe Accuracy\t 0.9479166666666666\n",
      "Waveform Accuracy\t 0.8606666666666667\n",
      "Wine Accuracy\t\t 0.9814814814814815\n"
     ]
    }
   ],
   "source": [
    "print('Australian Accuracy\\t', accuracy_score(australian_y_test, australian_predict_rforest))\n",
    "print('Breast-Cancer Accuracy\\t', accuracy_score(breast_cancer_y_test, breast_cancer_predict_rforest))\n",
    "print('Car Accuracy\\t\\t', accuracy_score(car_y_test, car_predict_rforest))\n",
    "print('Iris Accuracy\\t\\t', accuracy_score(iris_y_test, iris_predict_rforest))\n",
    "print('Pima Accuracy\\t\\t', accuracy_score(pima_y_test, pima_predict_rforest))\n",
    "print('Tic-Tac-Toe Accuracy\\t', accuracy_score(tic_tac_toe_y_test, tic_tac_toe_predict_rforest))\n",
    "print('Waveform Accuracy\\t', accuracy_score(waveform_y_test, waveform_predict_rforest))\n",
    "print('Wine Accuracy\\t\\t', accuracy_score(wine_y_test, wine_predict_rforest))"
   ]
  },
  {
   "cell_type": "markdown",
   "id": "11860b3b",
   "metadata": {},
   "source": [
    "# Neural Network"
   ]
  },
  {
   "cell_type": "code",
   "execution_count": 15,
   "id": "b967b00a",
   "metadata": {},
   "outputs": [],
   "source": [
    "def build_model_2(hp):\n",
    "    model = Sequential([\n",
    "        Dense(hp.Int('units1', min_value=8, max_value=256, step=8), activation='relu'),\n",
    "        Dropout(0.1),\n",
    "        Dense(hp.Int('units2', min_value=8, max_value=256, step=8), activation='relu'),\n",
    "        Dropout(0.1),\n",
    "        Dense(2, activation='softmax')\n",
    "    ])\n",
    "    \n",
    "    model.compile(optimizer=keras.optimizers.Adam(learning_rate=hp.Float('learning_rate', 1e-4, 2e-1, sampling='log')),\n",
    "              loss='sparse_categorical_crossentropy',\n",
    "              metrics='accuracy')\n",
    "    return model\n",
    "\n",
    "def build_model_3(hp):\n",
    "    model = Sequential([\n",
    "        Dense(hp.Int('units1', min_value=8, max_value=256, step=8), activation='relu'),\n",
    "        Dropout(0.1),\n",
    "        Dense(hp.Int('units2', min_value=8, max_value=256, step=8), activation='relu'),\n",
    "        Dropout(0.1),\n",
    "        Dense(3, activation='softmax')\n",
    "    ])\n",
    "    \n",
    "    model.compile(optimizer=keras.optimizers.Adam(learning_rate=hp.Float('learning_rate', 1e-4, 2e-1, sampling='log')),\n",
    "              loss='sparse_categorical_crossentropy',\n",
    "              metrics='accuracy')\n",
    "    return model\n",
    "\n",
    "def build_model_4(hp):\n",
    "    model = Sequential([\n",
    "        Dense(hp.Int('units1', min_value=8, max_value=256, step=8), activation='relu'),\n",
    "        Dropout(0.1),\n",
    "        Dense(hp.Int('units2', min_value=8, max_value=256, step=8), activation='relu'),\n",
    "        Dropout(0.1),\n",
    "        Dense(4, activation='softmax')\n",
    "    ])\n",
    "    \n",
    "    model.compile(optimizer=keras.optimizers.Adam(learning_rate=hp.Float('learning_rate', 1e-4, 2e-1, sampling='log')),\n",
    "              loss='sparse_categorical_crossentropy',\n",
    "              metrics='accuracy')\n",
    "    return model\n",
    "\n",
    "def get_model(unit1, unit2, learning_rate, output):\n",
    "    model = Sequential([\n",
    "        Dense(unit1, activation='relu'),\n",
    "        Dropout(0.1),\n",
    "        Dense(unit2, activation='relu'),\n",
    "        Dropout(0.1),\n",
    "        Dense(output, activation='softmax')\n",
    "    ])\n",
    "    \n",
    "    model.compile(optimizer=keras.optimizers.Adam(learning_rate=learning_rate),\n",
    "                  loss='sparse_categorical_crossentropy',\n",
    "                  metrics='accuracy')\n",
    "    return model"
   ]
  },
  {
   "cell_type": "code",
   "execution_count": 16,
   "id": "3d323f27",
   "metadata": {},
   "outputs": [
    {
     "name": "stdout",
     "output_type": "stream",
     "text": [
      "Trial 10 Complete [00h 00m 35s]\n",
      "accuracy: 0.6231883764266968\n",
      "\n",
      "Best accuracy So Far: 0.8550724387168884\n",
      "Total elapsed time: 00h 05m 30s\n",
      "INFO:tensorflow:Oracle triggered exit\n",
      "neuron units1 = 152\n",
      "neuron units2 = 208\n",
      "learning rate = 0.0021674872135665243\n"
     ]
    }
   ],
   "source": [
    "australian_tuner = keras_tuner.RandomSearch(\n",
    "    build_model_2,\n",
    "    objective=keras_tuner.Objective('accuracy', direction='max'),\n",
    "    max_trials=10)\n",
    "\n",
    "australian_tuner.search(australian_x_train, australian_y_train,\n",
    "             batch_size=8,\n",
    "             epochs=100,\n",
    "             verbose=3,\n",
    "             validation_data=(australian_x_test, australian_y_test))\n",
    "australian_best_hp = australian_tuner.get_best_hyperparameters()[0]\n",
    "print('neuron units1 =', australian_best_hp.get('units1'))\n",
    "print('neuron units2 =', australian_best_hp.get('units2'))\n",
    "print('learning rate =', australian_best_hp.get('learning_rate'))"
   ]
  },
  {
   "cell_type": "code",
   "execution_count": 17,
   "id": "5680a3f4",
   "metadata": {},
   "outputs": [
    {
     "name": "stdout",
     "output_type": "stream",
     "text": [
      "Trial 10 Complete [00h 00m 16s]\n",
      "accuracy: 0.7699999809265137\n",
      "\n",
      "Best accuracy So Far: 0.9900000095367432\n",
      "Total elapsed time: 00h 02m 41s\n",
      "INFO:tensorflow:Oracle triggered exit\n",
      "neuron units1 = 200\n",
      "neuron units2 = 96\n",
      "learning rate = 0.0011747678118119711\n"
     ]
    }
   ],
   "source": [
    "breast_cancer_tuner = keras_tuner.RandomSearch(\n",
    "    build_model_2,\n",
    "    objective=keras_tuner.Objective('accuracy', direction='max'),\n",
    "    max_trials=10)\n",
    "\n",
    "breast_cancer_tuner.search(breast_cancer_x_train, breast_cancer_y_train,\n",
    "             batch_size=8,\n",
    "             epochs=100,\n",
    "             verbose=3,\n",
    "             validation_data=(breast_cancer_x_test, breast_cancer_y_test))\n",
    "breast_cancer_best_hp = breast_cancer_tuner.get_best_hyperparameters()[0]\n",
    "print('neuron units1 =', breast_cancer_best_hp.get('units1'))\n",
    "print('neuron units2 =', breast_cancer_best_hp.get('units2'))\n",
    "print('learning rate =', breast_cancer_best_hp.get('learning_rate'))"
   ]
  },
  {
   "cell_type": "code",
   "execution_count": 18,
   "id": "395b1af0",
   "metadata": {},
   "outputs": [
    {
     "name": "stdout",
     "output_type": "stream",
     "text": [
      "Trial 10 Complete [00h 01m 24s]\n",
      "accuracy: 0.9892473220825195\n",
      "\n",
      "Best accuracy So Far: 1.0\n",
      "Total elapsed time: 00h 13m 47s\n",
      "INFO:tensorflow:Oracle triggered exit\n",
      "neuron units1 = 224\n",
      "neuron units2 = 248\n",
      "learning rate = 0.000980630056954356\n"
     ]
    }
   ],
   "source": [
    "car_tuner = keras_tuner.RandomSearch(\n",
    "    build_model_4,\n",
    "    objective=keras_tuner.Objective('accuracy', direction='max'),\n",
    "    max_trials=10)\n",
    "\n",
    "car_tuner.search(car_x_train, car_y_train,\n",
    "             batch_size=8,\n",
    "             epochs=100,\n",
    "             verbose=3,\n",
    "             validation_data=(car_x_test, car_y_test))\n",
    "car_best_hp = car_tuner.get_best_hyperparameters()[0]\n",
    "print('neuron units1 =', car_best_hp.get('units1'))\n",
    "print('neuron units2 =', car_best_hp.get('units2'))\n",
    "print('learning rate =', car_best_hp.get('learning_rate'))"
   ]
  },
  {
   "cell_type": "code",
   "execution_count": 19,
   "id": "2411b50e",
   "metadata": {},
   "outputs": [
    {
     "name": "stdout",
     "output_type": "stream",
     "text": [
      "Trial 10 Complete [00h 00m 11s]\n",
      "accuracy: 0.9904761910438538\n",
      "\n",
      "Best accuracy So Far: 1.0\n",
      "Total elapsed time: 00h 01m 47s\n",
      "INFO:tensorflow:Oracle triggered exit\n",
      "neuron units1 = 168\n",
      "neuron units2 = 256\n",
      "learning rate = 0.003510463786741103\n"
     ]
    }
   ],
   "source": [
    "iris_tuner = keras_tuner.RandomSearch(\n",
    "    build_model_3,\n",
    "    objective=keras_tuner.Objective('accuracy', direction='max'),\n",
    "    max_trials=10)\n",
    "\n",
    "iris_tuner.search(iris_x_train, iris_y_train,\n",
    "             batch_size=8,\n",
    "             epochs=100,\n",
    "             verbose=3,\n",
    "             validation_data=(iris_x_test, iris_y_test))\n",
    "iris_best_hp = iris_tuner.get_best_hyperparameters()[0]\n",
    "print('neuron units1 =', iris_best_hp.get('units1'))\n",
    "print('neuron units2 =', iris_best_hp.get('units2'))\n",
    "print('learning rate =', iris_best_hp.get('learning_rate'))"
   ]
  },
  {
   "cell_type": "code",
   "execution_count": 21,
   "id": "d4c29314",
   "metadata": {},
   "outputs": [
    {
     "name": "stdout",
     "output_type": "stream",
     "text": [
      "Trial 10 Complete [00h 00m 38s]\n",
      "accuracy: 0.7206704020500183\n",
      "\n",
      "Best accuracy So Far: 0.7765362858772278\n",
      "Total elapsed time: 00h 06m 15s\n",
      "INFO:tensorflow:Oracle triggered exit\n",
      "neuron units1 = 224\n",
      "neuron units2 = 120\n",
      "learning rate = 0.0020346369439905965\n"
     ]
    }
   ],
   "source": [
    "pima_tuner = keras_tuner.RandomSearch(\n",
    "    build_model_2,\n",
    "    objective=keras_tuner.Objective('accuracy', direction='max'),\n",
    "    max_trials=10)\n",
    "\n",
    "pima_tuner.search(pima_x_train, pima_y_train,\n",
    "             batch_size=8,\n",
    "             epochs=100,\n",
    "             verbose=3,\n",
    "             validation_data=(pima_x_test, pima_y_test))\n",
    "pima_best_hp = pima_tuner.get_best_hyperparameters()[0]\n",
    "print('neuron units1 =', pima_best_hp.get('units1'))\n",
    "print('neuron units2 =', pima_best_hp.get('units2'))\n",
    "print('learning rate =', pima_best_hp.get('learning_rate'))"
   ]
  },
  {
   "cell_type": "code",
   "execution_count": 22,
   "id": "f31419a3",
   "metadata": {},
   "outputs": [
    {
     "name": "stdout",
     "output_type": "stream",
     "text": [
      "Trial 10 Complete [00h 00m 47s]\n",
      "accuracy: 0.9164178967475891\n",
      "\n",
      "Best accuracy So Far: 1.0\n",
      "Total elapsed time: 00h 08m 20s\n",
      "INFO:tensorflow:Oracle triggered exit\n",
      "neuron units1 = 248\n",
      "neuron units2 = 184\n",
      "learning rate = 0.002075044861482825\n"
     ]
    }
   ],
   "source": [
    "tic_tac_toe_tuner = keras_tuner.RandomSearch(\n",
    "    build_model_2,\n",
    "    objective=keras_tuner.Objective('accuracy', direction='max'),\n",
    "    max_trials=10)\n",
    "\n",
    "tic_tac_toe_tuner.search(tic_tac_toe_x_train, tic_tac_toe_y_train,\n",
    "             batch_size=8,\n",
    "             epochs=100,\n",
    "             verbose=3,\n",
    "             validation_data=(tic_tac_toe_x_test, tic_tac_toe_y_test))\n",
    "tic_tac_toe_best_hp = tic_tac_toe_tuner.get_best_hyperparameters()[0]\n",
    "print('neuron units1 =', tic_tac_toe_best_hp.get('units1'))\n",
    "print('neuron units2 =', tic_tac_toe_best_hp.get('units2'))\n",
    "print('learning rate =', tic_tac_toe_best_hp.get('learning_rate'))"
   ]
  },
  {
   "cell_type": "code",
   "execution_count": 23,
   "id": "0358661c",
   "metadata": {},
   "outputs": [
    {
     "name": "stdout",
     "output_type": "stream",
     "text": [
      "Trial 10 Complete [00h 03m 44s]\n",
      "accuracy: 0.9165714383125305\n",
      "\n",
      "Best accuracy So Far: 0.9842857122421265\n",
      "Total elapsed time: 00h 37m 27s\n",
      "INFO:tensorflow:Oracle triggered exit\n",
      "neuron units1 = 224\n",
      "neuron units2 = 168\n",
      "learning rate = 0.00021860429948249434\n"
     ]
    }
   ],
   "source": [
    "waveform_tuner = keras_tuner.RandomSearch(\n",
    "    build_model_3,\n",
    "    objective=keras_tuner.Objective('accuracy', direction='max'),\n",
    "    max_trials=10)\n",
    "\n",
    "waveform_tuner.search(waveform_x_train, waveform_y_train,\n",
    "             batch_size=8,\n",
    "             epochs=100,\n",
    "             verbose=3,\n",
    "             validation_data=(waveform_x_test, waveform_y_test))\n",
    "waveform_best_hp = waveform_tuner.get_best_hyperparameters()[0]\n",
    "print('neuron units1 =', waveform_best_hp.get('units1'))\n",
    "print('neuron units2 =', waveform_best_hp.get('units2'))\n",
    "print('learning rate =', waveform_best_hp.get('learning_rate'))"
   ]
  },
  {
   "cell_type": "code",
   "execution_count": 24,
   "id": "dc65eaa9",
   "metadata": {},
   "outputs": [
    {
     "name": "stdout",
     "output_type": "stream",
     "text": [
      "Trial 10 Complete [00h 00m 11s]\n",
      "accuracy: 0.7338709831237793\n",
      "\n",
      "Best accuracy So Far: 0.9354838728904724\n",
      "Total elapsed time: 00h 01m 53s\n",
      "INFO:tensorflow:Oracle triggered exit\n",
      "neuron units1 = 16\n",
      "neuron units2 = 128\n",
      "learning rate = 0.006225760151000066\n"
     ]
    }
   ],
   "source": [
    "wine_tuner = keras_tuner.RandomSearch(\n",
    "    build_model_3,\n",
    "    objective=keras_tuner.Objective('accuracy', direction='max'),\n",
    "    max_trials=10)\n",
    "\n",
    "wine_tuner.search(wine_x_train, wine_y_train,\n",
    "             batch_size=8,\n",
    "             epochs=100,\n",
    "             verbose=3,\n",
    "             validation_data=(wine_x_test, wine_y_test))\n",
    "wine_best_hp = wine_tuner.get_best_hyperparameters()[0]\n",
    "print('neuron units1 =', wine_best_hp.get('units1'))\n",
    "print('neuron units2 =', wine_best_hp.get('units2'))\n",
    "print('learning rate =', wine_best_hp.get('learning_rate'))"
   ]
  },
  {
   "cell_type": "code",
   "execution_count": 25,
   "id": "323f62e7",
   "metadata": {},
   "outputs": [],
   "source": [
    "australian_model = get_model(australian_best_hp.get('units1'), australian_best_hp.get('units2'), australian_best_hp.get('learning_rate'), 2)\n",
    "australian_history = australian_model.fit(australian_x_train, australian_y_train,\n",
    "                    batch_size=8,\n",
    "                    epochs=100,\n",
    "                    verbose=0,\n",
    "                    validation_data=(australian_x_test, australian_y_test))\n",
    "\n",
    "breast_cancer_model = get_model(breast_cancer_best_hp.get('units1'), breast_cancer_best_hp.get('units2'), breast_cancer_best_hp.get('learning_rate'), 2)\n",
    "breast_cancer_history = breast_cancer_model.fit(breast_cancer_x_train, breast_cancer_y_train,\n",
    "                    batch_size=8,\n",
    "                    epochs=100,\n",
    "                    verbose=0,\n",
    "                    validation_data=(breast_cancer_x_test, breast_cancer_y_test))\n",
    "\n",
    "car_model = get_model(car_best_hp.get('units1'), car_best_hp.get('units2'), car_best_hp.get('learning_rate'), 4)\n",
    "car_history = car_model.fit(car_x_train, car_y_train,\n",
    "                    batch_size=8,\n",
    "                    epochs=100,\n",
    "                    verbose=0,\n",
    "                    validation_data=(car_x_test, car_y_test))\n",
    "\n",
    "iris_model = get_model(iris_best_hp.get('units1'), iris_best_hp.get('units2'), iris_best_hp.get('learning_rate'), 3)\n",
    "iris_history = iris_model.fit(iris_x_train, iris_y_train,\n",
    "                    batch_size=8,\n",
    "                    epochs=100,\n",
    "                    verbose=0,\n",
    "                    validation_data=(iris_x_test, iris_y_test))\n",
    "\n",
    "pima_model = get_model(pima_best_hp.get('units1'), pima_best_hp.get('units2'), pima_best_hp.get('learning_rate'), 2)\n",
    "pima_history = pima_model.fit(pima_x_train, pima_y_train,\n",
    "                    batch_size=8,\n",
    "                    epochs=100,\n",
    "                    verbose=0,\n",
    "                    validation_data=(pima_x_test, pima_y_test))\n",
    "\n",
    "tic_tac_toe_model = get_model(tic_tac_toe_best_hp.get('units1'), tic_tac_toe_best_hp.get('units2'), tic_tac_toe_best_hp.get('learning_rate'), 2)\n",
    "tic_tac_toe_history = tic_tac_toe_model.fit(tic_tac_toe_x_train, tic_tac_toe_y_train,\n",
    "                    batch_size=8,\n",
    "                    epochs=100,\n",
    "                    verbose=0,\n",
    "                    validation_data=(tic_tac_toe_x_test, tic_tac_toe_y_test))\n",
    "\n",
    "waveform_model = get_model(waveform_best_hp.get('units1'), waveform_best_hp.get('units2'), waveform_best_hp.get('learning_rate'), 3)\n",
    "waveform_history = waveform_model.fit(waveform_x_train, waveform_y_train,\n",
    "                    batch_size=8,\n",
    "                    epochs=100,\n",
    "                    verbose=0,\n",
    "                    validation_data=(waveform_x_test, waveform_y_test))\n",
    "\n",
    "wine_model = get_model(wine_best_hp.get('units1'), wine_best_hp.get('units2'), wine_best_hp.get('learning_rate'), 3)\n",
    "wine_history = wine_model.fit(wine_x_train, wine_y_train,\n",
    "                    batch_size=8,\n",
    "                    epochs=100,\n",
    "                    verbose=0,\n",
    "                    validation_data=(wine_x_test, wine_y_test))"
   ]
  },
  {
   "cell_type": "code",
   "execution_count": 26,
   "id": "4c19b657",
   "metadata": {},
   "outputs": [
    {
     "name": "stdout",
     "output_type": "stream",
     "text": [
      "7/7 [==============================] - 0s 1ms/step\n",
      "3/3 [==============================] - 0s 2ms/step\n",
      "17/17 [==============================] - 0s 1ms/step\n",
      "2/2 [==============================] - 0s 3ms/step\n",
      "8/8 [==============================] - 0s 1ms/step\n",
      "9/9 [==============================] - 0s 2ms/step\n",
      "47/47 [==============================] - 0s 1ms/step\n",
      "2/2 [==============================] - 0s 2ms/step\n"
     ]
    }
   ],
   "source": [
    "australian_predict_nn = np.argmax(australian_model.predict(australian_x_test) , axis=1)\n",
    "breast_cancer_predict_nn = np.argmax(breast_cancer_model.predict(breast_cancer_x_test) , axis=1)\n",
    "car_predict_nn = np.argmax(car_model.predict(car_x_test) , axis=1)\n",
    "iris_predict_nn = np.argmax(iris_model.predict(iris_x_test) , axis=1)\n",
    "pima_predict_nn = np.argmax(pima_model.predict(pima_x_test) , axis=1)\n",
    "tic_tac_toe_predict_nn = np.argmax(tic_tac_toe_model.predict(tic_tac_toe_x_test) , axis=1)\n",
    "waveform_predict_nn = np.argmax(waveform_model.predict(waveform_x_test) , axis=1)\n",
    "wine_predict_nn = np.argmax(wine_model.predict(wine_x_test) , axis=1)"
   ]
  },
  {
   "cell_type": "code",
   "execution_count": 27,
   "id": "3e17b206",
   "metadata": {},
   "outputs": [
    {
     "name": "stdout",
     "output_type": "stream",
     "text": [
      "Australian Accuracy\t 0.7681159420289855\n",
      "Breast-Cancer Accuracy\t 0.686046511627907\n",
      "Car Accuracy\t\t 0.9980732177263969\n",
      "Iris Accuracy\t\t 0.9777777777777777\n",
      "Pima Accuracy\t\t 0.7532467532467533\n",
      "Tic-Tac-Toe Accuracy\t 0.9166666666666666\n",
      "Waveform Accuracy\t 0.8453333333333334\n",
      "Wine Accuracy\t\t 0.6851851851851852\n"
     ]
    }
   ],
   "source": [
    "print('Australian Accuracy\\t', accuracy_score(australian_y_test, australian_predict_nn))\n",
    "print('Breast-Cancer Accuracy\\t', accuracy_score(breast_cancer_y_test, breast_cancer_predict_nn))\n",
    "print('Car Accuracy\\t\\t', accuracy_score(car_y_test, car_predict_nn))\n",
    "print('Iris Accuracy\\t\\t', accuracy_score(iris_y_test, iris_predict_nn))\n",
    "print('Pima Accuracy\\t\\t', accuracy_score(pima_y_test, pima_predict_nn))\n",
    "print('Tic-Tac-Toe Accuracy\\t', accuracy_score(tic_tac_toe_y_test, tic_tac_toe_predict_nn))\n",
    "print('Waveform Accuracy\\t', accuracy_score(waveform_y_test, waveform_predict_nn))\n",
    "print('Wine Accuracy\\t\\t', accuracy_score(wine_y_test, wine_predict_nn))"
   ]
  },
  {
   "cell_type": "markdown",
   "id": "26264c12",
   "metadata": {},
   "source": [
    "# SVM"
   ]
  },
  {
   "cell_type": "code",
   "execution_count": 28,
   "id": "15abeb76",
   "metadata": {},
   "outputs": [],
   "source": [
    "australian_svm = svm.SVC().fit(australian_x_train, australian_y_train)\n",
    "australian_predict_svm = australian_svm.predict(australian_x_test)\n",
    "breast_cancer_svm = svm.SVC().fit(breast_cancer_x_train, breast_cancer_y_train)\n",
    "breast_cancer_predict_svm = breast_cancer_svm.predict(breast_cancer_x_test)\n",
    "car_svm = svm.SVC().fit(car_x_train, car_y_train)\n",
    "car_predict_svm = car_svm.predict(car_x_test)\n",
    "iris_svm = svm.SVC().fit(iris_x_train, iris_y_train)\n",
    "iris_predict_svm = iris_svm.predict(iris_x_test)\n",
    "pima_svm = svm.SVC().fit(pima_x_train, pima_y_train)\n",
    "pima_predict_svm = pima_svm.predict(pima_x_test)\n",
    "tic_tac_toe_svm = svm.SVC().fit(tic_tac_toe_x_train, tic_tac_toe_y_train)\n",
    "tic_tac_toe_predict_svm = tic_tac_toe_svm.predict(tic_tac_toe_x_test)\n",
    "waveform_svm = svm.SVC().fit(waveform_x_train, waveform_y_train)\n",
    "waveform_predict_svm = waveform_svm.predict(waveform_x_test)\n",
    "wine_svm = svm.SVC().fit(wine_x_train, wine_y_train)\n",
    "wine_predict_svm = wine_svm.predict(wine_x_test)"
   ]
  },
  {
   "cell_type": "code",
   "execution_count": 29,
   "id": "6a12874a",
   "metadata": {},
   "outputs": [
    {
     "name": "stdout",
     "output_type": "stream",
     "text": [
      "Australian Accuracy\t 0.6521739130434783\n",
      "Breast-Cancer Accuracy\t 0.7558139534883721\n",
      "Car Accuracy\t\t 0.9094412331406551\n",
      "Iris Accuracy\t\t 0.9777777777777777\n",
      "Pima Accuracy\t\t 0.7532467532467533\n",
      "Tic-Tac-Toe Accuracy\t 0.8611111111111112\n",
      "Waveform Accuracy\t 0.8693333333333333\n",
      "Wine Accuracy\t\t 0.7777777777777778\n"
     ]
    }
   ],
   "source": [
    "print('Australian Accuracy\\t', accuracy_score(australian_y_test, australian_predict_svm))\n",
    "print('Breast-Cancer Accuracy\\t', accuracy_score(breast_cancer_y_test, breast_cancer_predict_svm))\n",
    "print('Car Accuracy\\t\\t', accuracy_score(car_y_test, car_predict_svm))\n",
    "print('Iris Accuracy\\t\\t', accuracy_score(iris_y_test, iris_predict_svm))\n",
    "print('Pima Accuracy\\t\\t', accuracy_score(pima_y_test, pima_predict_svm))\n",
    "print('Tic-Tac-Toe Accuracy\\t', accuracy_score(tic_tac_toe_y_test, tic_tac_toe_predict_svm))\n",
    "print('Waveform Accuracy\\t', accuracy_score(waveform_y_test, waveform_predict_svm))\n",
    "print('Wine Accuracy\\t\\t', accuracy_score(wine_y_test, wine_predict_svm))"
   ]
  },
  {
   "cell_type": "code",
   "execution_count": null,
   "id": "c7334907",
   "metadata": {},
   "outputs": [],
   "source": []
  }
 ],
 "metadata": {
  "kernelspec": {
   "display_name": "Python 3 (ipykernel)",
   "language": "python",
   "name": "python3"
  },
  "language_info": {
   "codemirror_mode": {
    "name": "ipython",
    "version": 3
   },
   "file_extension": ".py",
   "mimetype": "text/x-python",
   "name": "python",
   "nbconvert_exporter": "python",
   "pygments_lexer": "ipython3",
   "version": "3.9.12"
  }
 },
 "nbformat": 4,
 "nbformat_minor": 5
}
